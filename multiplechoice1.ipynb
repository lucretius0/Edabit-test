{
 "cells": [
  {
   "cell_type": "code",
   "execution_count": 2,
   "metadata": {},
   "outputs": [],
   "source": [
    "a = [1, 2, 3, 4]\n",
    "b = [1, 3, 4, 4]\n",
    "\n",
    "c = a == b"
   ]
  },
  {
   "cell_type": "code",
   "execution_count": 3,
   "metadata": {},
   "outputs": [
    {
     "name": "stdout",
     "output_type": "stream",
     "text": [
      "False\n"
     ]
    }
   ],
   "source": [
    "print(c)"
   ]
  },
  {
   "cell_type": "code",
   "execution_count": 5,
   "metadata": {},
   "outputs": [
    {
     "data": {
      "text/plain": [
       "2"
      ]
     },
     "execution_count": 5,
     "metadata": {},
     "output_type": "execute_result"
    }
   ],
   "source": [
    "a = [True, False, True]\n",
    "\n",
    "sum(a)"
   ]
  },
  {
   "cell_type": "code",
   "execution_count": 7,
   "metadata": {},
   "outputs": [
    {
     "name": "stdout",
     "output_type": "stream",
     "text": [
      "Passed! (83%)\n"
     ]
    }
   ],
   "source": [
    "pass_fail = \"Passed!\"\n",
    "percentage_correct = 83\n",
    "\n",
    "subject = \"Chemistry\"\n",
    "\n",
    "message = f\"{pass_fail} ({percentage_correct}%)\"\n",
    "\n",
    "print(message)"
   ]
  },
  {
   "cell_type": "code",
   "execution_count": 8,
   "metadata": {},
   "outputs": [
    {
     "ename": "TypeError",
     "evalue": "unsupported operand type(s) for +: 'dict' and 'dict'",
     "output_type": "error",
     "traceback": [
      "\u001b[0;31m---------------------------------------------------------------------------\u001b[0m",
      "\u001b[0;31mTypeError\u001b[0m                                 Traceback (most recent call last)",
      "\u001b[1;32m/home/raj/Desktop/Edabit/multiplechoice1.ipynb Cell 5\u001b[0m in \u001b[0;36m<cell line: 11>\u001b[0;34m()\u001b[0m\n\u001b[1;32m      <a href='vscode-notebook-cell:/home/raj/Desktop/Edabit/multiplechoice1.ipynb#W4sZmlsZQ%3D%3D?line=5'>6</a>\u001b[0m subject \u001b[39m=\u001b[39m \u001b[39m\"\u001b[39m\u001b[39mphysics\u001b[39m\u001b[39m\"\u001b[39m\n\u001b[1;32m      <a href='vscode-notebook-cell:/home/raj/Desktop/Edabit/multiplechoice1.ipynb#W4sZmlsZQ%3D%3D?line=7'>8</a>\u001b[0m message \u001b[39m=\u001b[39m \u001b[39mf\u001b[39m\u001b[39m\"\u001b[39m\u001b[39m{\u001b[39;00mpass_fail\u001b[39m}\u001b[39;00m\u001b[39m (\u001b[39m\u001b[39m{\u001b[39;00mpercentage_correct\u001b[39m}\u001b[39;00m\u001b[39m%)\u001b[39m\u001b[39m\"\u001b[39m\n\u001b[0;32m---> <a href='vscode-notebook-cell:/home/raj/Desktop/Edabit/multiplechoice1.ipynb#W4sZmlsZQ%3D%3D?line=10'>11</a>\u001b[0m tests_taken \u001b[39m=\u001b[39m tests_taken \u001b[39m+\u001b[39;49m {subject : message }\n",
      "\u001b[0;31mTypeError\u001b[0m: unsupported operand type(s) for +: 'dict' and 'dict'"
     ]
    }
   ],
   "source": [
    "tests_taken = {subject : message }\n",
    "\n",
    "pass_fail = \"Failed!\"\n",
    "percentage_correct = 12\n",
    "\n",
    "subject = \"physics\"\n",
    "\n",
    "message = f\"{pass_fail} ({percentage_correct}%)\"\n",
    "\n",
    "\n",
    "tests_taken = tests_taken + {subject : message }"
   ]
  },
  {
   "cell_type": "code",
   "execution_count": null,
   "metadata": {},
   "outputs": [],
   "source": []
  }
 ],
 "metadata": {
  "kernelspec": {
   "display_name": "Python 3.9.12 ('base')",
   "language": "python",
   "name": "python3"
  },
  "language_info": {
   "codemirror_mode": {
    "name": "ipython",
    "version": 3
   },
   "file_extension": ".py",
   "mimetype": "text/x-python",
   "name": "python",
   "nbconvert_exporter": "python",
   "pygments_lexer": "ipython3",
   "version": "3.9.12"
  },
  "orig_nbformat": 4,
  "vscode": {
   "interpreter": {
    "hash": "64e80eab9906f9954411e2ed9e2f50267578aafb496993537603541cb035db4f"
   }
  }
 },
 "nbformat": 4,
 "nbformat_minor": 2
}
