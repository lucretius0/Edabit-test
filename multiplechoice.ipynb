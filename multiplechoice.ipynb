{
 "cells": [
  {
   "cell_type": "code",
   "execution_count": 24,
   "metadata": {},
   "outputs": [],
   "source": [
    "class Testpaper:\n",
    "    def __init__(self, subject, markscheme, pass_mark):\n",
    "        self.subject = subject\n",
    "        self.markscheme = markscheme\n",
    "        self.pass_mark = pass_mark\n",
    "\n",
    "\n",
    "class Student:\n",
    "    def __init__(self):\n",
    "        self.tests_taken = 'No tests taken'\n",
    "\n",
    "\n",
    "\n",
    "    def take_test(self, testpaper, answers):\n",
    "\n",
    "        #compare testpaper testpaper.markscheme to answers \n",
    "        self.results_list = []\n",
    "\n",
    "        for i in range(len(answers)):\n",
    "            self.results_list.append(testpaper.markscheme[i] == answers[i])\n",
    "\n",
    "        #calculate % and see if passed or failed based on testpaper.pass_mark\n",
    "\n",
    "        self.percentage_correct = round((sum(self.results_list)/len(self.results_list))*100)\n",
    "        \n",
    "        if self.percentage_correct >= int(testpaper.pass_mark.replace(\"%\", \"\")):\n",
    "            self.pass_fail = \"Passed!\"\n",
    "\n",
    "        else:\n",
    "            self.pass_fail = \"Failed!\"\n",
    "\n",
    "        self.message = self.pass_fail + \" (\" + str(self.percentage_correct) + \"%)\"\n",
    "\n",
    "        #turn self.tests_taken into a dictionary and add subject name and result of test\n",
    "        if self.tests_taken == \"No tests taken\":\n",
    "            self.tests_taken = {testpaper.subject : self.message }\n",
    "\n",
    "        else:\n",
    "\n",
    "\n",
    "            self.tests_taken.update({testpaper.subject : self.message })\n",
    "\n",
    "        return self.tests_taken\n",
    "\n",
    "\n",
    "\n",
    "\n"
   ]
  },
  {
   "cell_type": "code",
   "execution_count": 25,
   "metadata": {},
   "outputs": [],
   "source": [
    "paper1 = Testpaper(\"Maths\", [\"1A\", \"2C\", \"3D\", \"4A\", \"5A\"], \"60%\")\n",
    "paper2 = Testpaper(\"Chemistry\", [\"1C\", \"2C\", \"3D\", \"4A\"], \"75%\")\n",
    "paper3 = Testpaper(\"Computing\", [\"1D\", \"2C\", \"3C\", \"4B\", \"5D\", \"6C\", \"7A\"], \"75%\")\n",
    "\n",
    "student1 = Student()\n",
    "student2 = Student()"
   ]
  },
  {
   "cell_type": "code",
   "execution_count": 26,
   "metadata": {},
   "outputs": [
    {
     "data": {
      "text/plain": [
       "'No tests taken'"
      ]
     },
     "execution_count": 26,
     "metadata": {},
     "output_type": "execute_result"
    }
   ],
   "source": [
    "student1.tests_taken"
   ]
  },
  {
   "cell_type": "code",
   "execution_count": 27,
   "metadata": {},
   "outputs": [
    {
     "data": {
      "text/plain": [
       "{'Maths': 'Passed! (80%)'}"
      ]
     },
     "execution_count": 27,
     "metadata": {},
     "output_type": "execute_result"
    }
   ],
   "source": [
    "student1.take_test(paper1, [\"1A\", \"2D\", \"3D\", \"4A\", \"5A\"])"
   ]
  },
  {
   "cell_type": "code",
   "execution_count": 28,
   "metadata": {},
   "outputs": [
    {
     "data": {
      "text/plain": [
       "{'Maths': 'Passed! (80%)'}"
      ]
     },
     "execution_count": 28,
     "metadata": {},
     "output_type": "execute_result"
    }
   ],
   "source": [
    "student1.tests_taken"
   ]
  },
  {
   "cell_type": "code",
   "execution_count": 29,
   "metadata": {},
   "outputs": [
    {
     "data": {
      "text/plain": [
       "{'Chemistry': 'Failed! (25%)'}"
      ]
     },
     "execution_count": 29,
     "metadata": {},
     "output_type": "execute_result"
    }
   ],
   "source": [
    "student2.take_test(paper2, [\"1C\", \"2D\", \"3A\", \"4C\"])"
   ]
  },
  {
   "cell_type": "code",
   "execution_count": 30,
   "metadata": {},
   "outputs": [
    {
     "data": {
      "text/plain": [
       "{'Chemistry': 'Failed! (25%)', 'Computing': 'Failed! (43%)'}"
      ]
     },
     "execution_count": 30,
     "metadata": {},
     "output_type": "execute_result"
    }
   ],
   "source": [
    "student2.take_test(paper3, [\"1A\", \"2C\", \"3A\", \"4C\", \"5D\", \"6C\", \"7B\"])"
   ]
  },
  {
   "cell_type": "code",
   "execution_count": null,
   "metadata": {},
   "outputs": [],
   "source": []
  }
 ],
 "metadata": {
  "kernelspec": {
   "display_name": "Python 3.10.6 64-bit",
   "language": "python",
   "name": "python3"
  },
  "language_info": {
   "codemirror_mode": {
    "name": "ipython",
    "version": 3
   },
   "file_extension": ".py",
   "mimetype": "text/x-python",
   "name": "python",
   "nbconvert_exporter": "python",
   "pygments_lexer": "ipython3",
   "version": "3.10.6"
  },
  "orig_nbformat": 4,
  "vscode": {
   "interpreter": {
    "hash": "916dbcbb3f70747c44a77c7bcd40155683ae19c65e1c03b4aa3499c5328201f1"
   }
  }
 },
 "nbformat": 4,
 "nbformat_minor": 2
}
