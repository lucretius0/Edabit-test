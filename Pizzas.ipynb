{
 "cells": [
  {
   "cell_type": "code",
   "execution_count": 73,
   "id": "8cb1bbe9-6605-46eb-aae5-0d80e4eca2f2",
   "metadata": {},
   "outputs": [],
   "source": [
    "class Pizza:\n",
    "    \n",
    "    counter = 0\n",
    "    \n",
    "    def __init__(self, ingredients):\n",
    "        self.ingredients = ingredients\n",
    "        \n",
    "        Pizza.counter += 1 \n",
    "        self.order_number = Pizza.counter\n",
    "        \n",
    "    \n",
    "    @classmethod\n",
    "    def hawaiian(cls):\n",
    "        \n",
    "        return cls([\"ham\", \"pineapple\"])\n",
    "    \n",
    "    \n",
    "    @classmethod\n",
    "    def meat_festival(cls):\n",
    "        \n",
    "        return cls([\"beef\", \"meatball\", \"bacon\"])\n",
    "    \n",
    "    \n",
    "    @classmethod\n",
    "    def garden_feast(cls):\n",
    "        \n",
    "        return cls([\"spinach\", \"olives\", \"mushroom\"])\n",
    "        "
   ]
  },
  {
   "cell_type": "code",
   "execution_count": 74,
   "id": "fba982ab-9b96-403e-8c9f-0a6ef4048f50",
   "metadata": {},
   "outputs": [],
   "source": [
    "p1 = Pizza([\"bacon\", \"parmesan\", \"ham\"])    # order 1\n",
    "p2 = Pizza.garden_feast()                  # order 2\n",
    "p3 = Pizza.meat_festival()"
   ]
  },
  {
   "cell_type": "code",
   "execution_count": 75,
   "id": "c5f7fcbc-e425-4339-99ce-59e46f33bfba",
   "metadata": {},
   "outputs": [
    {
     "data": {
      "text/plain": [
       "['bacon', 'parmesan', 'ham']"
      ]
     },
     "execution_count": 75,
     "metadata": {},
     "output_type": "execute_result"
    }
   ],
   "source": [
    "p1.ingredients"
   ]
  },
  {
   "cell_type": "code",
   "execution_count": 76,
   "id": "696f5813-579f-490d-9acf-aaeb5cf65174",
   "metadata": {},
   "outputs": [
    {
     "data": {
      "text/plain": [
       "['spinach', 'olives', 'mushroom']"
      ]
     },
     "execution_count": 76,
     "metadata": {},
     "output_type": "execute_result"
    }
   ],
   "source": [
    "p2.ingredients"
   ]
  },
  {
   "cell_type": "code",
   "execution_count": 77,
   "id": "d2fc8f3e-c087-4157-9888-0d48995062ab",
   "metadata": {},
   "outputs": [
    {
     "data": {
      "text/plain": [
       "1"
      ]
     },
     "execution_count": 77,
     "metadata": {},
     "output_type": "execute_result"
    }
   ],
   "source": [
    "p1.order_number"
   ]
  },
  {
   "cell_type": "code",
   "execution_count": 78,
   "id": "cd55c810-73bc-4b61-af01-60448559f15f",
   "metadata": {},
   "outputs": [
    {
     "data": {
      "text/plain": [
       "2"
      ]
     },
     "execution_count": 78,
     "metadata": {},
     "output_type": "execute_result"
    }
   ],
   "source": [
    "p2.order_number"
   ]
  },
  {
   "cell_type": "code",
   "execution_count": 79,
   "id": "76948543-f13d-4a65-8b6a-05d54484f4f9",
   "metadata": {},
   "outputs": [
    {
     "data": {
      "text/plain": [
       "3"
      ]
     },
     "execution_count": 79,
     "metadata": {},
     "output_type": "execute_result"
    }
   ],
   "source": [
    "p3.order_number"
   ]
  },
  {
   "cell_type": "code",
   "execution_count": 2,
   "id": "6ae92e15-ebfe-4b3b-adf0-77d7561d8fc7",
   "metadata": {},
   "outputs": [],
   "source": []
  },
  {
   "cell_type": "code",
   "execution_count": null,
   "id": "e1791896",
   "metadata": {},
   "outputs": [],
   "source": []
  }
 ],
 "metadata": {
  "kernelspec": {
   "display_name": "Python 3.9.12 ('base')",
   "language": "python",
   "name": "python3"
  },
  "language_info": {
   "codemirror_mode": {
    "name": "ipython",
    "version": 3
   },
   "file_extension": ".py",
   "mimetype": "text/x-python",
   "name": "python",
   "nbconvert_exporter": "python",
   "pygments_lexer": "ipython3",
   "version": "3.9.15"
  },
  "vscode": {
   "interpreter": {
    "hash": "64e80eab9906f9954411e2ed9e2f50267578aafb496993537603541cb035db4f"
   }
  }
 },
 "nbformat": 4,
 "nbformat_minor": 5
}
