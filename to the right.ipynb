{
 "cells": [
  {
   "cell_type": "code",
   "execution_count": 72,
   "id": "242331d9-a0b4-4979-a293-56f6f9043eb1",
   "metadata": {},
   "outputs": [],
   "source": [
    "\n",
    "\n",
    "class Menu:\n",
    "    # add an __init__ method\n",
    "    def __init__(self,list):\n",
    "        self.list_O = list\n",
    "        self.list = self.list_O[:]\n",
    "        self.list[0] = [self.list[0]]\n",
    "        self.n = 0\n",
    "\n",
    "        \n",
    "        \n",
    "    def to_the_right(self):\n",
    "        # write code here!\n",
    "        \n",
    "        self.n += 1\n",
    "        self.list = self.list_O[:]\n",
    "        \n",
    "        if self.n <= len(self.list) - 1:\n",
    "            \n",
    "            self.list[self.n] = [self.list[self.n]]\n",
    "            \n",
    "        \n",
    "        else:\n",
    "            self.n = 0\n",
    "            self.list[self.n] = [self.list[self.n]]\n",
    "\n",
    "        \n",
    "        \n",
    "        \n",
    "    def display(self):\n",
    "        # write code here\n",
    "        return str(self.list)"
   ]
  },
  {
   "cell_type": "code",
   "execution_count": 73,
   "id": "6671fe94-6dd3-44d3-920f-ca736e55c878",
   "metadata": {},
   "outputs": [
    {
     "data": {
      "text/plain": [
       "[1, 2, 3]"
      ]
     },
     "execution_count": 73,
     "metadata": {},
     "output_type": "execute_result"
    }
   ],
   "source": [
    "menu = Menu([1,2,3])\n",
    "\n",
    "\n",
    "menu.list_O\n"
   ]
  },
  {
   "cell_type": "code",
   "execution_count": 74,
   "id": "79fe75a9-d9cb-442b-b955-9eb90412c025",
   "metadata": {},
   "outputs": [
    {
     "data": {
      "text/plain": [
       "'[[1], 2, 3]'"
      ]
     },
     "execution_count": 74,
     "metadata": {},
     "output_type": "execute_result"
    }
   ],
   "source": [
    "\n",
    "menu.display()"
   ]
  },
  {
   "cell_type": "code",
   "execution_count": null,
   "id": "d82c7c34-b9c8-4a5a-9f8a-20ebe81ac998",
   "metadata": {},
   "outputs": [],
   "source": []
  },
  {
   "cell_type": "code",
   "execution_count": 75,
   "id": "d6664bd9-b13e-4bc0-b94a-e887e76dc2d6",
   "metadata": {},
   "outputs": [
    {
     "data": {
      "text/plain": [
       "'[1, [2], 3]'"
      ]
     },
     "execution_count": 75,
     "metadata": {},
     "output_type": "execute_result"
    }
   ],
   "source": [
    "menu.to_the_right()\n",
    "menu.display()"
   ]
  },
  {
   "cell_type": "code",
   "execution_count": 76,
   "id": "0e200338-fabc-4887-bc0b-11eaaf52aa9c",
   "metadata": {},
   "outputs": [
    {
     "data": {
      "text/plain": [
       "'[1, 2, [3]]'"
      ]
     },
     "execution_count": 76,
     "metadata": {},
     "output_type": "execute_result"
    }
   ],
   "source": [
    "menu.to_the_right()\n",
    "menu.display()"
   ]
  },
  {
   "cell_type": "code",
   "execution_count": 77,
   "id": "004dda72-c256-4176-81b1-f2161eed74ee",
   "metadata": {},
   "outputs": [
    {
     "data": {
      "text/plain": [
       "'[[1], 2, 3]'"
      ]
     },
     "execution_count": 77,
     "metadata": {},
     "output_type": "execute_result"
    }
   ],
   "source": [
    "menu.to_the_right()\n",
    "menu.display()"
   ]
  },
  {
   "cell_type": "code",
   "execution_count": 78,
   "id": "018d00b0-400c-4ea3-9e79-f62c2895e754",
   "metadata": {},
   "outputs": [
    {
     "data": {
      "text/plain": [
       "'[1, [2], 3]'"
      ]
     },
     "execution_count": 78,
     "metadata": {},
     "output_type": "execute_result"
    }
   ],
   "source": [
    "menu.to_the_right()\n",
    "menu.display()"
   ]
  },
  {
   "cell_type": "code",
   "execution_count": 79,
   "id": "82b80414-e80b-4025-9437-85b0e5a42ee2",
   "metadata": {},
   "outputs": [
    {
     "data": {
      "text/plain": [
       "'[1, 2, [3]]'"
      ]
     },
     "execution_count": 79,
     "metadata": {},
     "output_type": "execute_result"
    }
   ],
   "source": [
    "menu.to_the_right()\n",
    "menu.display()"
   ]
  },
  {
   "cell_type": "code",
   "execution_count": 80,
   "id": "958fbb32-0240-4a6f-b13d-8eb4955b503f",
   "metadata": {},
   "outputs": [
    {
     "data": {
      "text/plain": [
       "'[[1], 2, 3]'"
      ]
     },
     "execution_count": 80,
     "metadata": {},
     "output_type": "execute_result"
    }
   ],
   "source": [
    "menu.to_the_right()\n",
    "menu.display()"
   ]
  },
  {
   "cell_type": "code",
   "execution_count": null,
   "id": "f196dd7d-55e2-408d-8c77-5441d63c688f",
   "metadata": {},
   "outputs": [],
   "source": []
  }
 ],
 "metadata": {
  "kernelspec": {
   "display_name": "Python 3.10.6 64-bit",
   "language": "python",
   "name": "python3"
  },
  "language_info": {
   "codemirror_mode": {
    "name": "ipython",
    "version": 3
   },
   "file_extension": ".py",
   "mimetype": "text/x-python",
   "name": "python",
   "nbconvert_exporter": "python",
   "pygments_lexer": "ipython3",
   "version": "3.10.6"
  },
  "vscode": {
   "interpreter": {
    "hash": "916dbcbb3f70747c44a77c7bcd40155683ae19c65e1c03b4aa3499c5328201f1"
   }
  }
 },
 "nbformat": 4,
 "nbformat_minor": 5
}
